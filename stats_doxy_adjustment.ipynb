{
 "cells": [
  {
   "cell_type": "markdown",
   "id": "ac6ff158",
   "metadata": {},
   "source": [
    "# ARGO DOXY profile adjustment check\n",
    "\n",
    "This script will read in the synthetic profile\n",
    "\n",
    "1) read the raw and adjusted o2 data in good status (PROFILE_DOXY_QC = 'A' or 'B')\n",
    "    (A) Flag bad data\n",
    "\n",
    "2) read the calibration comments: \n",
    "    (B) Flag inconsistent / missing DOXY calibration comments\n",
    "    The correction table is saved as a CSV file as float_calibration_statsitics.csv\n",
    "\n",
    "3) for the good DOXY profiles, classify the calibration method into 4 groups\n",
    "- Type 1: Gain correction using surface climatological saturation (Takeshita et al, 2013)\n",
    "- Type 2: Gain correction using surface in-air measurement at the surface (Johnson et al., 2015)\n",
    "- Type 3: Drucker and Riser (2016) calibration\n",
    "- Type 4: Gain correction using deep ocean (1800dbar) climatology\n",
    "\n",
    "4) Graph the relative proportion of DOXY float profiles"
   ]
  },
  {
   "cell_type": "code",
   "execution_count": 24,
   "id": "58bf92ad",
   "metadata": {},
   "outputs": [],
   "source": [
    "import os\n",
    "import numpy as np\n",
    "import pandas as pd\n",
    "import xarray as xr\n",
    "from scipy import interpolate as itp\n",
    "import matplotlib.pyplot as plt\n",
    "pd.set_option('display.max_rows', 500)\n",
    "pd.set_option('display.max_columns', 500)\n",
    "pd.set_option('display.width', 2000)"
   ]
  },
  {
   "cell_type": "code",
   "execution_count": 25,
   "id": "3000e569",
   "metadata": {},
   "outputs": [],
   "source": [
    "# generate index for downloaded synthetic profiles\n",
    "os.system('ls data/*.nc > available_floats.txt')\n",
    "fn=pd.read_csv('available_floats.txt',header=None,names=['file'])"
   ]
  },
  {
   "cell_type": "code",
   "execution_count": 3,
   "id": "0deffac2",
   "metadata": {},
   "outputs": [
    {
     "name": "stdout",
     "output_type": "stream",
     "text": [
      "completed 0 floats\n",
      "completed 50 floats\n",
      "completed 100 floats\n",
      "completed 150 floats\n",
      "completed 200 floats\n",
      "completed 250 floats\n",
      "completed 300 floats\n",
      "completed 350 floats\n",
      "completed 400 floats\n",
      "completed 450 floats\n",
      "completed 500 floats\n",
      "completed 550 floats\n",
      "completed 600 floats\n",
      "completed 650 floats\n",
      "completed 700 floats\n",
      "completed 750 floats\n",
      "completed 800 floats\n",
      "completed 850 floats\n",
      "completed 900 floats\n",
      "completed 950 floats\n",
      "completed 1000 floats\n",
      "completed 1050 floats\n",
      "completed 1100 floats\n",
      "completed 1150 floats\n",
      "completed 1200 floats\n",
      "completed 1250 floats\n",
      "completed 1300 floats\n",
      "completed 1350 floats\n",
      "completed 1400 floats\n",
      "completed 1450 floats\n",
      "completed 1500 floats\n"
     ]
    }
   ],
   "source": [
    "# open the profile data file, count the number of profiles and depth levels\n",
    "N=np.size(fn)\n",
    "Nprf=np.empty((N,))\n",
    "Nprf_good=np.empty((N,))\n",
    "Nlev=np.empty((N,))\n",
    "N_calib_comm=np.empty((N,))\n",
    "calib_comm=np.empty((N,),dtype='U200')\n",
    "! mkdir -p temporary_files\n",
    "#\n",
    "# loop over all floats\n",
    "for n in range(0,N):\n",
    "    if (np.remainder(n,50)==0):\n",
    "        print('completed '+str(n)+' floats')\n",
    "        \n",
    "    ds=xr.open_dataset(fn['file'][n])\n",
    "    Ntmp=np.shape(ds['PRES']) # get pressure data\n",
    "    Nprf[n]=Ntmp[0]           # count the number of profiles\n",
    "    Nlev[n]=Ntmp[1]           # count the number of pressure measurements\n",
    "    # get QC flags\n",
    "    date_qc=ds['JULD_QC'].astype(int)\n",
    "    pos_qc=ds['POSITION_QC'].astype(int)\n",
    "    o2_qc=ds['PROFILE_DOXY_QC'].astype(str)\n",
    "    o2qcflg=ds['DOXY_QC'].astype(str)\n",
    "    o2aqcflg=ds['DOXY_ADJUSTED_QC'].astype(str)\n",
    "    # identify good DOXY profiles    \n",
    "    goodprf=(pos_qc==1) & (date_qc==1) & ((o2_qc=='A') | (o2_qc=='B'))\n",
    "    # read in calibration comments for only good profiles\n",
    "    doxy_calib_comm=ds['SCIENTIFIC_CALIB_COMMENT'][:,0,3].where(goodprf==True).dropna(dim='N_PROF')\n",
    "    # count the number of good DOXY profiles\n",
    "    Nprf_good[n]=np.size(doxy_calib_comm)\n",
    "    # record the calibration method for each profile\n",
    "    if (Nprf_good[n] >= 1.):\n",
    "        tmp=np.unique(doxy_calib_comm.to_numpy().astype('U200'))\n",
    "        N_calib_comm[n]=np.size(tmp)\n",
    "        tmp10=tmp[0][0:10]\n",
    "        # check for missing calibration comment\n",
    "        if ((tmp10=='          ')|(tmp10=='n/a       ')|(tmp10=='none      ')|(tmp10=='No QC avai')):\n",
    "            calib_comm[n]='inconsistent/missing calibration comment'\n",
    "            N_calib_comm[n]=np.nan\n",
    "        # check for inconsistent calibration comment\n",
    "        elif (N_calib_comm[n]>=2):\n",
    "            calib_comm[n]='inconsistent/missing calibration comment'\n",
    "            N_calib_comm[n]=np.nan\n",
    "        else:\n",
    "        # this is the good data\n",
    "            calib_comm[n]=tmp[0]\n",
    "    # this is not good due to QC flag\n",
    "    else:\n",
    "        calib_comm[n]='bad data'\n",
    "        N_calib_comm[n]=np.nan"
   ]
  },
  {
   "cell_type": "code",
   "execution_count": 26,
   "id": "69674537",
   "metadata": {},
   "outputs": [
    {
     "name": "stdout",
     "output_type": "stream",
     "text": [
      "There are 949 floats that reported good DOXY data with consistent calibration method comment. \n"
     ]
    }
   ],
   "source": [
    "index_good=np.where(N_calib_comm==1)\n",
    "print('There are '+str(np.size(index_good))+' floats that reported good DOXY data with consistent calibration method comment. ')"
   ]
  },
  {
   "cell_type": "code",
   "execution_count": 27,
   "id": "e00f5d1a",
   "metadata": {},
   "outputs": [
    {
     "name": "stdout",
     "output_type": "stream",
     "text": [
      "There are 82 independent calibration method comments. \n"
     ]
    }
   ],
   "source": [
    "calib_types, calib_count = np.unique(calib_comm, return_counts=True)\n",
    "print('There are '+str(np.size(calib_types))+' independent calibration method comments. ')\n",
    "a=np.array([calib_count, calib_types])\n",
    "float_stats=pd.DataFrame(data=a.T,\n",
    "                        columns=['Number of floats','Calibration Type'])\n",
    "float_stats.to_csv('float_calibration_statsitics.csv')"
   ]
  },
  {
   "cell_type": "code",
   "execution_count": 31,
   "id": "2a71b9e4",
   "metadata": {},
   "outputs": [],
   "source": [
    "Nc=[]\n",
    "# type 1: Gain correction using surface in-air measurement at the surface (Bittig and Kortzinger 2015; Johnson et al 2015)\n",
    "index1=[17,18,21,25,26,33,36,40,41,42,46,52,53,54,60,66,72,74]\n",
    "Nc.append(np.sum(calib_count[index1]))\n",
    "# type 2: Gain correction using surface climatological saturation (WOA). Takeshita et al (2013)\n",
    "index2=[12,13,14,15,16,19,20,22,23,24,27,28,29,30,31,35,37,38,39,43,44,45,48,49,51,55,56,57,58,59,63,64,65,67,68,70,71,77,78,79,80]\n",
    "Nc.append(np.sum(calib_count[index2]))\n",
    "# type 3: Drucker and Riser (2016) calibration\n",
    "index3=[34]\n",
    "Nc.append(np.sum(calib_count[index3]))\n",
    "# type 4: Gain correction using deep ocean (1800dbar) climatology\n",
    "index4=[0,1,2,3,4,5,6,7,8]\n",
    "Nc.append(np.sum(calib_count[index4]))\n",
    "# type 5: Other\n",
    "index5=[9,10,11,32,47,50,61,62,69,76,81]\n",
    "Nc.append(np.sum(calib_count[index5]))"
   ]
  },
  {
   "cell_type": "code",
   "execution_count": 37,
   "id": "b5296b47",
   "metadata": {},
   "outputs": [
    {
     "data": {
      "text/plain": [
       "<Figure size 504x288 with 0 Axes>"
      ]
     },
     "metadata": {},
     "output_type": "display_data"
    },
    {
     "data": {
      "image/png": "[encoded data removed]",
      "text/plain": [
       "<Figure size 432x288 with 1 Axes>"
      ]
     },
     "metadata": {},
     "output_type": "display_data"
    }
   ],
   "source": [
    "import matplotlib.pyplot as plt\n",
    "fig=plt.figure(figsize=(7,4))\n",
    "# Pie chart, where the slices will be ordered and plotted counter-clockwise:\n",
    "labels = 'Gain corr (in-air)', 'Gain corr (surf sat clim)', 'Drucker-Riser (2016) corr', 'Gain corr (deep clim)', 'Other'\n",
    "sizes = Nc\n",
    "explode = (0.1, 0.1, 0, 0,0)  # only \"explode\" the 1st and 2nd slice \n",
    "\n",
    "fig1, ax1 = plt.subplots()\n",
    "ax1.pie(sizes, explode=explode, labels=labels, autopct='%1.1f%%',\n",
    "        shadow=True, startangle=90)\n",
    "ax1.axis('equal')  # Equal aspect ratio ensures that pie is drawn as a circle.\n",
    "plt.savefig('pie_correction_type.pdf')\n",
    "plt.show()"
   ]
  },
  {
   "cell_type": "code",
   "execution_count": null,
   "id": "6e19fe8e",
   "metadata": {},
   "outputs": [],
   "source": []
  }
 ],
 "metadata": {
  "kernelspec": {
   "display_name": "Python 3 (ipykernel)",
   "language": "python",
   "name": "python3"
  },
  "language_info": {
   "codemirror_mode": {
    "name": "ipython",
    "version": 3
   },
   "file_extension": ".py",
   "mimetype": "text/x-python",
   "name": "python",
   "nbconvert_exporter": "python",
   "pygments_lexer": "ipython3",
   "version": "3.8.12"
  }
 },
 "nbformat": 4,
 "nbformat_minor": 5
}
